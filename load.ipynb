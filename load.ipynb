{
 "cells": [
  {
   "cell_type": "code",
   "execution_count": null,
   "metadata": {},
   "outputs": [],
   "source": [
    "\n",
    "from dotenv import load_dotenv\n",
    "load_dotenv()\n",
    "from openai import OpenAI\n",
    "\n",
    "import os\n",
    "import pinecone\n",
    "from pinecone import Pinecone, ServerlessSpec"
   ]
  },
  {
   "cell_type": "code",
   "execution_count": null,
   "metadata": {},
   "outputs": [],
   "source": [
    "pc = Pinecone(api_key=os.getenv('PINECONE_API_KEY'))\n",
    "pc.create_index(\n",
    "    name=\"rag\", dimension=1536, metric=\"cosine\", spec=ServerlessSpec(cloud=\"aws\", region=\"us-east-1\")\n",
    ")"
   ]
  },
  {
   "cell_type": "code",
   "execution_count": 5,
   "metadata": {},
   "outputs": [
    {
     "data": {
      "text/plain": [
       "[{'professor': 'Dr. Alice Smith',\n",
       "  'subject': 'Computer Science',\n",
       "  'rating': 4,\n",
       "  'review': 'Dr. Smith is very knowledgeable and engaging. The course material was challenging but rewarding.'},\n",
       " {'professor': 'Prof. John Doe',\n",
       "  'subject': 'Mathematics',\n",
       "  'rating': 3,\n",
       "  'review': \"Prof. Doe's lectures were clear, but the grading seemed harsh. Some additional help sessions would be appreciated.\"},\n",
       " {'professor': 'Dr. Emily Johnson',\n",
       "  'subject': 'Physics',\n",
       "  'rating': 5,\n",
       "  'review': 'Dr. Johnson is fantastic! Her passion for the subject is infectious, and she makes complex concepts easy to understand.'},\n",
       " {'professor': 'Dr. Michael Brown',\n",
       "  'subject': 'Chemistry',\n",
       "  'rating': 2,\n",
       "  'review': \"Dr. Brown's classes were often disorganized, and the lab sessions felt rushed. Needs to improve course structure.\"},\n",
       " {'professor': 'Prof. Sarah White',\n",
       "  'subject': 'Biology',\n",
       "  'rating': 4,\n",
       "  'review': 'Prof. White is approachable and provides excellent feedback. The course was well-organized and the labs were interesting.'},\n",
       " {'professor': 'Dr. David Lee',\n",
       "  'subject': 'History',\n",
       "  'rating': 3,\n",
       "  'review': \"Dr. Lee's lectures were informative but could benefit from more interactive elements to engage students.\"},\n",
       " {'professor': 'Prof. Laura Green',\n",
       "  'subject': 'Economics',\n",
       "  'rating': 5,\n",
       "  'review': 'Prof. Green is an outstanding instructor who makes economics relatable and fun. Highly recommend her class.'},\n",
       " {'professor': 'Dr. James Harris',\n",
       "  'subject': 'Engineering',\n",
       "  'rating': 4,\n",
       "  'review': 'Dr. Harris is very knowledgeable and provides real-world applications of engineering principles. Some assignments were quite challenging.'},\n",
       " {'professor': 'Prof. Olivia Martinez',\n",
       "  'subject': 'Philosophy',\n",
       "  'rating': 3,\n",
       "  'review': 'Prof. Martinez has an interesting approach but can be difficult to follow at times. More structured lectures would help.'},\n",
       " {'professor': 'Dr. William Clark',\n",
       "  'subject': 'Statistics',\n",
       "  'rating': 4,\n",
       "  'review': 'Dr. Clark is clear and concise. The course materials were well-organized, and he was always available for help.'},\n",
       " {'professor': 'Prof. Sophia Lewis',\n",
       "  'subject': 'Literature',\n",
       "  'rating': 5,\n",
       "  'review': 'Prof. Lewis is passionate about literature and creates a vibrant classroom environment. Her feedback on essays was invaluable.'},\n",
       " {'professor': 'Dr. Benjamin Walker',\n",
       "  'subject': 'Art History',\n",
       "  'rating': 3,\n",
       "  'review': \"Dr. Walker's lectures are informative but sometimes lack depth. More visual aids would enhance understanding.\"},\n",
       " {'professor': 'Prof. Ava Robinson',\n",
       "  'subject': 'Music Theory',\n",
       "  'rating': 4,\n",
       "  'review': 'Prof. Robinson is engaging and makes music theory accessible. The assignments were relevant and practical.'},\n",
       " {'professor': 'Dr. Daniel Scott',\n",
       "  'subject': 'Political Science',\n",
       "  'rating': 2,\n",
       "  'review': \"Dr. Scott's lectures were often dry and unengaging. The course could benefit from more interactive discussions.\"},\n",
       " {'professor': 'Prof. Mia Adams',\n",
       "  'subject': 'Sociology',\n",
       "  'rating': 5,\n",
       "  'review': 'Prof. Adams is fantastic! Her passion for sociology is evident and she fosters a great classroom environment for discussions.'},\n",
       " {'professor': 'Dr. Jacob Nelson',\n",
       "  'subject': 'Engineering Design',\n",
       "  'rating': 4,\n",
       "  'review': 'Dr. Nelson is practical and hands-on, but some of the projects could use clearer instructions.'},\n",
       " {'professor': 'Prof. Isabella Carter',\n",
       "  'subject': 'Public Speaking',\n",
       "  'rating': 4,\n",
       "  'review': 'Prof. Carter is very encouraging and provides excellent feedback. The course helped build confidence in public speaking.'},\n",
       " {'professor': 'Dr. Lucas Turner',\n",
       "  'subject': 'Astronomy',\n",
       "  'rating': 3,\n",
       "  'review': 'Dr. Turner is knowledgeable but the class often felt rushed. More time for questions and discussions would be helpful.'},\n",
       " {'professor': 'Prof. Charlotte Collins',\n",
       "  'subject': 'Anthropology',\n",
       "  'rating': 5,\n",
       "  'review': 'Prof. Collins is engaging and her enthusiasm for anthropology makes the course enjoyable. Highly recommend her class.'},\n",
       " {'professor': 'Dr. Henry Mitchell',\n",
       "  'subject': 'Database Systems',\n",
       "  'rating': 4,\n",
       "  'review': \"Dr. Mitchell's class is well-structured and he provides practical examples. The workload is manageable and relevant.\"},\n",
       " {'professor': 'Prof. Ella Walker',\n",
       "  'subject': 'Gender Studies',\n",
       "  'rating': 4,\n",
       "  'review': 'Prof. Walker is knowledgeable and passionate. The course is thought-provoking and well-organized.'},\n",
       " {'professor': 'Dr. Ryan Young',\n",
       "  'subject': 'Organic Chemistry',\n",
       "  'rating': 2,\n",
       "  'review': \"Dr. Young's class was difficult to follow and the pacing was inconsistent. Additional support materials would be beneficial.\"}]"
      ]
     },
     "execution_count": 5,
     "metadata": {},
     "output_type": "execute_result"
    }
   ],
   "source": [
    "import json\n",
    "\n",
    "data = json.load(open(\"reviews.json\"))\n",
    "data['reviews']"
   ]
  },
  {
   "cell_type": "code",
   "execution_count": 7,
   "metadata": {},
   "outputs": [],
   "source": [
    "processed_data = []\n",
    "client = OpenAI()\n",
    "\n",
    "for review in data['reviews']:\n",
    "    response = client.embeddings.create(\n",
    "        input=review['review'],\n",
    "        model='text-embedding-3-small'\n",
    "    )\n",
    "\n",
    "    embedding = response.data[0].embedding\n",
    "    processed_data.append({\n",
    "        \"values\": embedding,\n",
    "        'id': review['professor'],\n",
    "        'metadata': {\n",
    "            'review': review['review'],\n",
    "            'subject': review['subject'],\n",
    "            'rating': review['rating']\n",
    "        }\n",
    "    })"
   ]
  },
  {
   "cell_type": "code",
   "execution_count": 9,
   "metadata": {},
   "outputs": [
    {
     "data": {
      "text/plain": [
       "{'upserted_count': 22}"
      ]
     },
     "execution_count": 9,
     "metadata": {},
     "output_type": "execute_result"
    }
   ],
   "source": [
    "# adding the processed data to data base\n",
    "\n",
    "index = pc.Index('rag')\n",
    "index.upsert(\n",
    "    vectors=processed_data,\n",
    "    namespace='ms1'\n",
    ")"
   ]
  },
  {
   "cell_type": "code",
   "execution_count": 10,
   "metadata": {},
   "outputs": [
    {
     "data": {
      "text/plain": [
       "{'dimension': 1536,\n",
       " 'index_fullness': 0.0,\n",
       " 'namespaces': {'ms1': {'vector_count': 22}},\n",
       " 'total_vector_count': 22}"
      ]
     },
     "execution_count": 10,
     "metadata": {},
     "output_type": "execute_result"
    }
   ],
   "source": [
    "index.describe_index_stats()"
   ]
  },
  {
   "cell_type": "markdown",
   "metadata": {},
   "source": []
  }
 ],
 "metadata": {
  "kernelspec": {
   "display_name": "Python 3",
   "language": "python",
   "name": "python3"
  },
  "language_info": {
   "codemirror_mode": {
    "name": "ipython",
    "version": 3
   },
   "file_extension": ".py",
   "mimetype": "text/x-python",
   "name": "python",
   "nbconvert_exporter": "python",
   "pygments_lexer": "ipython3",
   "version": "3.12.4"
  }
 },
 "nbformat": 4,
 "nbformat_minor": 2
}
